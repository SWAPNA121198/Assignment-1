{
  "nbformat": 4,
  "nbformat_minor": 0,
  "metadata": {
    "colab": {
      "name": "Assignment -2.ipynb",
      "provenance": [],
      "collapsed_sections": [],
      "authorship_tag": "ABX9TyOicrAeca4h4SBL+RNHBMOa",
      "include_colab_link": true
    },
    "kernelspec": {
      "name": "python3",
      "display_name": "Python 3"
    }
  },
  "cells": [
    {
      "cell_type": "markdown",
      "metadata": {
        "id": "view-in-github",
        "colab_type": "text"
      },
      "source": [
        "<a href=\"https://colab.research.google.com/github/SWAPNA121198/Assignment-1/blob/main/Assignment_2.ipynb\" target=\"_parent\"><img src=\"https://colab.research.google.com/assets/colab-badge.svg\" alt=\"Open In Colab\"/></a>"
      ]
    },
    {
      "cell_type": "markdown",
      "metadata": {
        "id": "2KlzT5_Hdnr8"
      },
      "source": [
        "You all are pilots, you have to land a plane, the altitude required for landing a plane is 1000ft, if it\r\n",
        "is less than that tell the pilot to land the plane, or it is more than that but less than 5000ft ask the\r\n",
        "pilot to \"come down to 1000ft\", else if it is more than 5000ft ask the pilot to \"go around and try\r\n",
        "later\" "
      ]
    },
    {
      "cell_type": "markdown",
      "metadata": {
        "id": "xSgxzEcKdyCE"
      },
      "source": [
        "Answer is:"
      ]
    },
    {
      "cell_type": "code",
      "metadata": {
        "colab": {
          "base_uri": "https://localhost:8080/"
        },
        "id": "4PX3M4Z7I43S",
        "outputId": "6ccb7cfb-d689-455f-8e03-d9f11fcdb832"
      },
      "source": [
        "altitude= 1000  \r\n",
        "\r\n",
        "if altitude  < 1000:\r\n",
        "  print(\" ask the piolet to land the plane\")\r\n",
        "elif altitude  > 5000 and altitude <5099:\r\n",
        "    print(\" ask the piolet to come down\")\r\n",
        "elif altitude  > 6000:\r\n",
        "  print(\" ask the piolet to go around and try later\")\r\n",
        "else:\r\n",
        "  print(\"safe to land\")\r\n",
        "  "
      ],
      "execution_count": 40,
      "outputs": [
        {
          "output_type": "stream",
          "text": [
            "safe to land\n"
          ],
          "name": "stdout"
        }
      ]
    }
  ]
}