{
  "nbformat": 4,
  "nbformat_minor": 0,
  "metadata": {
    "colab": {
      "name": "Assignment -2.ipynb",
      "provenance": [],
      "collapsed_sections": [],
      "authorship_tag": "ABX9TyMrT5re0f5YKtMt0E6nPCec",
      "include_colab_link": true
    },
    "kernelspec": {
      "name": "python3",
      "display_name": "Python 3"
    }
  },
  "cells": [
    {
      "cell_type": "markdown",
      "metadata": {
        "id": "view-in-github",
        "colab_type": "text"
      },
      "source": [
        "<a href=\"https://colab.research.google.com/github/SWAPNA121198/Assignment-1/blob/main/Assignment_2.ipynb\" target=\"_parent\"><img src=\"https://colab.research.google.com/assets/colab-badge.svg\" alt=\"Open In Colab\"/></a>"
      ]
    },
    {
      "cell_type": "code",
      "metadata": {
        "id": "7tPo_JEdO1f9"
      },
      "source": [
        ""
      ],
      "execution_count": null,
      "outputs": []
    },
    {
      "cell_type": "code",
      "metadata": {
        "colab": {
          "base_uri": "https://localhost:8080/"
        },
        "id": "4PX3M4Z7I43S",
        "outputId": "6ccb7cfb-d689-455f-8e03-d9f11fcdb832"
      },
      "source": [
        "altitude= 1000  \r\n",
        "\r\n",
        "if altitude  < 1000:\r\n",
        "  print(\" ask the piolet to land the plane\")\r\n",
        "elif altitude  > 5000 and altitude <5099:\r\n",
        "    print(\" ask the piolet to come down\")\r\n",
        "elif altitude  > 6000:\r\n",
        "  print(\" ask the piolet to go around and try later\")\r\n",
        "else:\r\n",
        "  print(\"safe to land\")\r\n",
        "  "
      ],
      "execution_count": 40,
      "outputs": [
        {
          "output_type": "stream",
          "text": [
            "safe to land\n"
          ],
          "name": "stdout"
        }
      ]
    }
  ]
}