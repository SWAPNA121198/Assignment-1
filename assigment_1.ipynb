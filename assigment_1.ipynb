{
  "nbformat": 4,
  "nbformat_minor": 0,
  "metadata": {
    "colab": {
      "name": "assigment 1.ipynb",
      "provenance": [],
      "collapsed_sections": [],
      "authorship_tag": "ABX9TyPtpZUkRxEWveKl6gWFLzSJ",
      "include_colab_link": true
    },
    "kernelspec": {
      "name": "python3",
      "display_name": "Python 3"
    }
  },
  "cells": [
    {
      "cell_type": "markdown",
      "metadata": {
        "id": "view-in-github",
        "colab_type": "text"
      },
      "source": [
        "<a href=\"https://colab.research.google.com/github/SWAPNA121198/Assignment-1/blob/main/assigment_1.ipynb\" target=\"_parent\"><img src=\"https://colab.research.google.com/assets/colab-badge.svg\" alt=\"Open In Colab\"/></a>"
      ]
    },
    {
      "cell_type": "code",
      "metadata": {
        "id": "NZn5AcwhdsCd"
      },
      "source": [
        "Experiment with list's "
      ],
      "execution_count": null,
      "outputs": []
    },
    {
      "cell_type": "markdown",
      "metadata": {
        "id": "VzLGsMLYeLgk"
      },
      "source": [
        "1. making a list of 3 choclates and its price "
      ]
    },
    {
      "cell_type": "code",
      "metadata": {
        "colab": {
          "base_uri": "https://localhost:8080/",
          "height": 35
        },
        "id": "mTxpdlkWedRa",
        "outputId": "700b9bbd-3dcf-4c96-8dee-b1026fe15099"
      },
      "source": [
        "lst=[\"dairy RS-20\",\"munch Rs-30\",\"five star rs-25\"]\r\n",
        "lst[1]\r\n"
      ],
      "execution_count": 6,
      "outputs": [
        {
          "output_type": "execute_result",
          "data": {
            "application/vnd.google.colaboratory.intrinsic+json": {
              "type": "string"
            },
            "text/plain": [
              "'munch Rs-30'"
            ]
          },
          "metadata": {
            "tags": []
          },
          "execution_count": 6
        }
      ]
    },
    {
      "cell_type": "code",
      "metadata": {
        "colab": {
          "base_uri": "https://localhost:8080/",
          "height": 35
        },
        "id": "2XVfuFkmgjSN",
        "outputId": "919e55eb-72ab-4592-b7f5-e7f1a7753f32"
      },
      "source": [
        "lst[0]"
      ],
      "execution_count": 7,
      "outputs": [
        {
          "output_type": "execute_result",
          "data": {
            "application/vnd.google.colaboratory.intrinsic+json": {
              "type": "string"
            },
            "text/plain": [
              "'dairy RS-20'"
            ]
          },
          "metadata": {
            "tags": []
          },
          "execution_count": 7
        }
      ]
    },
    {
      "cell_type": "code",
      "metadata": {
        "colab": {
          "base_uri": "https://localhost:8080/",
          "height": 35
        },
        "id": "IvkttnYsgrd0",
        "outputId": "caaf4ec2-7499-481e-e523-10137df7bf81"
      },
      "source": [
        "lst[2]"
      ],
      "execution_count": 8,
      "outputs": [
        {
          "output_type": "execute_result",
          "data": {
            "application/vnd.google.colaboratory.intrinsic+json": {
              "type": "string"
            },
            "text/plain": [
              "'five star rs-25'"
            ]
          },
          "metadata": {
            "tags": []
          },
          "execution_count": 8
        }
      ]
    },
    {
      "cell_type": "markdown",
      "metadata": {
        "id": "ETuErrYYj-yr"
      },
      "source": [
        "2.appending choclate"
      ]
    },
    {
      "cell_type": "code",
      "metadata": {
        "colab": {
          "base_uri": "https://localhost:8080/"
        },
        "id": "x5GCP0XikEKu",
        "outputId": "9c26f72d-dfe3-418f-f7c9-a326f4ca50d1"
      },
      "source": [
        "lst.append('kitkat Rs-30')\r\n",
        "lst"
      ],
      "execution_count": 33,
      "outputs": [
        {
          "output_type": "execute_result",
          "data": {
            "text/plain": [
              "['dairy RS-20', 'munch Rs-30', 'five star rs-25', '5', 'kitkat Rs-30']"
            ]
          },
          "metadata": {
            "tags": []
          },
          "execution_count": 33
        }
      ]
    },
    {
      "cell_type": "markdown",
      "metadata": {
        "id": "sCRfxAI3kR4r"
      },
      "source": [
        "3.inserting item"
      ]
    },
    {
      "cell_type": "code",
      "metadata": {
        "colab": {
          "base_uri": "https://localhost:8080/"
        },
        "id": "BA8tGiGxkh2N",
        "outputId": "814972df-422b-490f-baba-0a4e061d93bc"
      },
      "source": [
        "lst.insert( 4,\"choclates makes our mind actively working\")\r\n",
        "lst"
      ],
      "execution_count": 36,
      "outputs": [
        {
          "output_type": "execute_result",
          "data": {
            "text/plain": [
              "['dairy RS-20',\n",
              " 'munch Rs-30',\n",
              " 'five star rs-25',\n",
              " '5',\n",
              " 'choclates makes our mind actively working',\n",
              " 'kitkat Rs-30']"
            ]
          },
          "metadata": {
            "tags": []
          },
          "execution_count": 36
        }
      ]
    },
    {
      "cell_type": "markdown",
      "metadata": {
        "id": "bkj-ini0lQjT"
      },
      "source": [
        "4.creating a list with int,and strings"
      ]
    },
    {
      "cell_type": "code",
      "metadata": {
        "colab": {
          "base_uri": "https://localhost:8080/",
          "height": 35
        },
        "id": "ybWLsYbilcOX",
        "outputId": "24264f2f-138a-4041-c762-9e5060ec0ab4"
      },
      "source": [
        "lst=[1,2,3,['hie','welcome to python']]\r\n",
        "lst[3][1]"
      ],
      "execution_count": 40,
      "outputs": [
        {
          "output_type": "execute_result",
          "data": {
            "application/vnd.google.colaboratory.intrinsic+json": {
              "type": "string"
            },
            "text/plain": [
              "'welcome to python'"
            ]
          },
          "metadata": {
            "tags": []
          },
          "execution_count": 40
        }
      ]
    },
    {
      "cell_type": "markdown",
      "metadata": {
        "id": "r4qwCYIEnAjb"
      },
      "source": [
        "5.extending a item"
      ]
    },
    {
      "cell_type": "code",
      "metadata": {
        "colab": {
          "base_uri": "https://localhost:8080/"
        },
        "id": "uZKu_x-zmzXN",
        "outputId": "24af518c-5568-4835-f92e-d2725b01b30c"
      },
      "source": [
        "lst.extend(\"hi\")\r\n",
        "lst"
      ],
      "execution_count": 42,
      "outputs": [
        {
          "output_type": "execute_result",
          "data": {
            "text/plain": [
              "[1, 2, 3, ['hie', 'welcome to python'], 'h', 'i']"
            ]
          },
          "metadata": {
            "tags": []
          },
          "execution_count": 42
        }
      ]
    }
  ]
}